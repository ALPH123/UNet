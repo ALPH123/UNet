{
 "cells": [
  {
   "cell_type": "code",
   "execution_count": null,
   "metadata": {},
   "outputs": [],
   "source": [
    "import sys\n",
    "sys.path.append('/home/hwang/anaconda3/lib/python3.7/site-packages/')\n",
    "\n",
    "from sklearn import datasets\n",
    "from sklearn.model_selection import train_test_split\n",
    "\n",
    "import tensorflow as tf\n",
    "import keras\n",
    "import numpy as np\n",
    "import matplotlib.pyplot as plt\n",
    "import os\n",
    "import SimpleITK as sitk\n",
    "import nibabel\n",
    "import math\n",
    "import texture\n",
    "\n",
    "from keras.utils.np_utils import to_categorical\n",
    "from keras import optimizers \n",
    "from keras.models import Sequential, Model\n",
    "from keras.layers import Dense, Activation, Flatten, Conv2D, MaxPooling2D, Dropout, Input, Lambda, Reshape, AveragePooling2D, BatchNormalization\n",
    "from keras.layers.merge import add, concatenate\n",
    "from keras.applications.resnet50 import ResNet50, decode_predictions\n",
    "\n",
    "from keras import backend as K\n",
    "from keras.utils import plot_model\n",
    "\n",
    "from keras.callbacks import EarlyStopping, LambdaCallback, ModelCheckpoint \n",
    "from keras import optimizers\n",
    "from keras.preprocessing.image import ImageDataGenerator\n",
    "from keras.layers.normalization import BatchNormalization\n",
    "\n",
    "from keras_unet.utils import plot_imgs, get_augmented, plot_segm_history\n",
    "from keras_unet.metrics import iou, iou_thresholded\n",
    "from keras_unet.losses import jaccard_distance \n",
    "from keras_unet.models import custom_unet\n",
    "\n",
    "os.environ[\"KERAS_BACKEND\"] = \"plaidml.keras.backend\""
   ]
  },
  {
   "cell_type": "code",
   "execution_count": null,
   "metadata": {},
   "outputs": [],
   "source": [
    "# delete .DS_Store file in each folder \n",
    "\n",
    "# resample\n",
    "            \n",
    "resampath = '/Users/hwang/Desktop/research/1_MM/Data/2_benign_MM/U-Net/pred/'\n",
    "# resampath = '/Users/hwang/Documents/research/2_Prostate/Unet/roi_T2/Tz_resamp/train/'\n",
    "\n",
    "resampfile = os.listdir(resampath)\n",
    "resampfile.sort()\n",
    "num_seg = len(resampfile)\n",
    "count_seg = 0\n",
    "for item_resamp in os.listdir(resampath):\n",
    "    current_resamp = os.path.basename(item_resamp)\n",
    "    if current_resamp == '.DS_Store':\n",
    "        fullpath = os.path.join(resampath,current_resamp)\n",
    "        os.remove(fullpath)"
   ]
  },
  {
   "cell_type": "code",
   "execution_count": null,
   "metadata": {},
   "outputs": [],
   "source": [
    "# feature for deep learning (3D): img\n",
    "\n",
    "resampath = '/Users/hwang/Desktop/research/1_MM/Data/2_benign_MM/resample_org_niigz/train/'\n",
    "# resampath = '/Users/hwang/Documents/research/2_Prostate/Unet/nT2/Tz_resamp/train/'\n",
    "\n",
    "resampfile = os.listdir(resampath)\n",
    "resampfile.sort()\n",
    "num_img = len(resampfile)\n",
    "\n",
    "first = sitk.ReadImage(os.path.join(resampath,resampfile[0]))\n",
    "feature = sitk.GetArrayFromImage(first)\n",
    "\n",
    "feature_reshape = feature.transpose(1,2,0)\n",
    "\n",
    "num = 1\n",
    "\n",
    "for n in os.listdir(resampath):\n",
    "\n",
    "    i = sitk.ReadImage(os.path.join(resampath,resampfile[num]))\n",
    "    j = sitk.GetArrayFromImage(i)\n",
    "    j_reshape = j.transpose(1,2,0)\n",
    "    feature_reshape = np.dstack((feature_reshape, j_reshape))\n",
    "    \n",
    "    if num < num_img-1:\n",
    "        num = num + 1  "
   ]
  },
  {
   "cell_type": "code",
   "execution_count": null,
   "metadata": {},
   "outputs": [],
   "source": [
    "# feature for deep learning (3D): mask\n",
    "\n",
    "roiresampath = '/Users/hwang/Desktop/research/1_MM/Data/2_benign_MM/resample_roi_niigz/train/'\n",
    "# roiresampath = '/Users/hwang/Documents/research/2_Prostate/Unet/roi_T2/Tz_resamp/train/'\n",
    "\n",
    "roiresampfile = os.listdir(roiresampath)\n",
    "roiresampfile.sort()\n",
    "num_seg = len(roiresampfile)\n",
    "\n",
    "first = sitk.ReadImage(os.path.join(roiresampath,roiresampfile[0]))\n",
    "mask = sitk.GetArrayFromImage(first) \n",
    "mask_reshape = mask.transpose(1,2,0)\n",
    "\n",
    "num = 1\n",
    "\n",
    "for n in os.listdir(resampath):\n",
    "\n",
    "    i = sitk.ReadImage(os.path.join(roiresampath,roiresampfile[num]))\n",
    "    j = sitk.GetArrayFromImage(i)\n",
    "    j_reshape = j.transpose(1,2,0)\n",
    "    mask_reshape = np.dstack((mask_reshape, j_reshape))\n",
    "    \n",
    "    if num < num_seg-1:\n",
    "        num = num + 1  "
   ]
  },
  {
   "cell_type": "code",
   "execution_count": null,
   "metadata": {},
   "outputs": [],
   "source": [
    "# feature normalization: 0-1\n",
    "\n",
    "maxval = np.amax(feature)\n",
    "feature_norm = feature_reshape/maxval"
   ]
  },
  {
   "cell_type": "code",
   "execution_count": null,
   "metadata": {},
   "outputs": [],
   "source": [
    "X = feature_norm.copy()\n",
    "XX = feature_norm.copy()\n",
    "XXX = feature_norm.copy()\n",
    "\n",
    "list_matrix = [X,XX,XXX]\n",
    "\n",
    "y = np.stack(list_matrix,axis=3)\n",
    "feature_reshape = y.transpose(2,0,1,3)\n",
    "mask_reshape = mask_reshape.transpose(2,0,1)\n",
    "mask_reshape = mask_reshape.reshape((mask_reshape.shape[0],mask_reshape.shape[1],mask_reshape.shape[2],1))"
   ]
  },
  {
   "cell_type": "code",
   "execution_count": null,
   "metadata": {},
   "outputs": [],
   "source": [
    "X_train = feature_reshape\n",
    "y_train = mask_reshape \n",
    "\n",
    "feature_reshape = []\n",
    "mask_reshape = []"
   ]
  },
  {
   "cell_type": "code",
   "execution_count": null,
   "metadata": {},
   "outputs": [],
   "source": [
    "train_gen = get_augmented(X_train, y_train, batch_size = 6, data_gen_args = dict(rotation_range=5., width_shift_range = 0.05, height_shift_range = 0.05, shear_range = 40, zoom_range = 0.2, horizontal_flip = True, vertical_flip = True, fill_mode = 'constant'))\n",
    "sample_batch = next(train_gen)\n",
    "xx, yy = sample_batch\n",
    "input_shape = X_train[0].shape\n",
    "\n",
    "model = custom_unet(input_shape, filters = 32, use_batch_norm = True, dropout = 0.3, dropout_change_per_layer = 0.0, num_layers = 4)\n",
    "model.summary()"
   ]
  },
  {
   "cell_type": "code",
   "execution_count": null,
   "metadata": {},
   "outputs": [],
   "source": [
    "# feature for deep learning (3D): img\n",
    "\n",
    "tresampath = '/Users/hwang/Desktop/research/1_MM/Data/2_benign_MM/resample_org_niigz/test/'\n",
    "tresampfile = os.listdir(tresampath)\n",
    "tresampfile.sort()\n",
    "num_img = len(tresampfile)\n",
    "\n",
    "first = sitk.ReadImage(os.path.join(tresampath,tresampfile[0]))\n",
    "feature = sitk.GetArrayFromImage(first)\n",
    "\n",
    "feature_reshape = feature.transpose(1,2,0)\n",
    "\n",
    "num = 1\n",
    "\n",
    "for n in os.listdir(tresampath):\n",
    "\n",
    "    i = sitk.ReadImage(os.path.join(tresampath,tresampfile[num]))\n",
    "    j = sitk.GetArrayFromImage(i)\n",
    "    j_reshape = j.transpose(1,2,0)\n",
    "    feature_reshape = np.dstack((feature_reshape, j_reshape))\n",
    "    \n",
    "    if num < num_img-1:\n",
    "        num = num + 1 "
   ]
  },
  {
   "cell_type": "code",
   "execution_count": null,
   "metadata": {},
   "outputs": [],
   "source": [
    "# feature for deep learning (3D): mask\n",
    "\n",
    "mresampath = '/Users/hwang/Desktop/research/1_MM/Data/2_benign_MM/resample_roi_niigz/test/'\n",
    "mresampfile = os.listdir(mresampath)\n",
    "mresampfile.sort()\n",
    "num_seg = len(mresampfile)\n",
    "\n",
    "first = sitk.ReadImage(os.path.join(mresampath,mresampfile[0]))\n",
    "mask = sitk.GetArrayFromImage(first) \n",
    "mask_reshape = mask.transpose(1,2,0)\n",
    "\n",
    "num = 1\n",
    "\n",
    "for n in os.listdir(mresampath):\n",
    "\n",
    "    i = sitk.ReadImage(os.path.join(mresampath,mresampfile[num]))\n",
    "    j = sitk.GetArrayFromImage(i)\n",
    "    j_reshape = j.transpose(1,2,0)\n",
    "    mask_reshape = np.dstack((mask_reshape, j_reshape))\n",
    "    \n",
    "    if num < num_seg-1:\n",
    "        num = num + 1 "
   ]
  },
  {
   "cell_type": "code",
   "execution_count": null,
   "metadata": {},
   "outputs": [],
   "source": [
    "# feature normalization: 0-1\n",
    "\n",
    "maxval = np.amax(feature)\n",
    "feature_norm = feature_reshape/maxval"
   ]
  },
  {
   "cell_type": "code",
   "execution_count": null,
   "metadata": {},
   "outputs": [],
   "source": [
    "Y = feature_norm.copy()\n",
    "YY = feature_norm.copy()\n",
    "YYY = feature_norm.copy()\n",
    "\n",
    "list_matrix = [Y,YY,YYY]\n",
    "\n",
    "z = np.stack(list_matrix,axis=3)\n",
    "feature_reshape = z.transpose(2,0,1,3)\n",
    "mask_reshape = mask_reshape.transpose(2,0,1)\n",
    "mask_reshape = mask_reshape.reshape((mask_reshape.shape[0],mask_reshape.shape[1],mask_reshape.shape[2],1))"
   ]
  },
  {
   "cell_type": "code",
   "execution_count": null,
   "metadata": {},
   "outputs": [],
   "source": [
    "X_test = feature_reshape\n",
    "y_test = mask_reshape \n",
    "\n",
    "feature_reshape = []\n",
    "mask_reshape = []"
   ]
  },
  {
   "cell_type": "code",
   "execution_count": null,
   "metadata": {},
   "outputs": [],
   "source": [
    "im = plt.imshow(X_test[865,:,:,0])"
   ]
  },
  {
   "cell_type": "code",
   "execution_count": null,
   "metadata": {},
   "outputs": [],
   "source": [
    "im = plt.imshow(y_test[788,:,:,0])"
   ]
  },
  {
   "cell_type": "code",
   "execution_count": null,
   "metadata": {},
   "outputs": [],
   "source": [
    "model_filename = 'segm_model2_v3.h5'\n",
    "# es = EarlyStopping(monitor = 'val_loss', mode = 'min', verbose = 1)\n",
    "callback_checkpoint = ModelCheckpoint(model_filename,verbose = 1, monitor = 'val_loss', save_best_only=True)\n",
    "model.compile(optimizer='adam', loss = 'binary_crossentropy', metrics = [iou, iou_thresholded])\n",
    "history = model.fit_generator(train_gen, steps_per_epoch = 200, epochs = 50, validation_data = (X_test, y_test), callbacks = [callback_checkpoint])"
   ]
  },
  {
   "cell_type": "code",
   "execution_count": null,
   "metadata": {},
   "outputs": [],
   "source": [
    "model.load_weights(model_filename)\n",
    "y_pred = model.predict(X_test)"
   ]
  },
  {
   "cell_type": "code",
   "execution_count": null,
   "metadata": {},
   "outputs": [],
   "source": [
    "plot_imgs(org_imgs=X_test, mask_imgs=y_test, pred_imgs=y_pred, nm_img_to_plot=19)"
   ]
  },
  {
   "cell_type": "code",
   "execution_count": null,
   "metadata": {},
   "outputs": [],
   "source": [
    "def dice_coef2(y_test, y_pred):\n",
    "    y_test_f = y_test.flatten()\n",
    "    y_pred_f = y_pred.flatten()\n",
    "    union = np.sum(y_test_f) + np.sum(y_pred_f)\n",
    "    if union==0: return 1\n",
    "    intersection = np.sum(y_test_f * y_pred_f)\n",
    "    return 2. * intersection / union"
   ]
  },
  {
   "cell_type": "code",
   "execution_count": null,
   "metadata": {},
   "outputs": [],
   "source": [
    "dice_coef2(y_test, y_pred)"
   ]
  },
  {
   "cell_type": "code",
   "execution_count": null,
   "metadata": {},
   "outputs": [],
   "source": [
    "image = y_pred\n",
    "# image = image[:,:,:,1]\n",
    "image2 = image.reshape(image.shape[0],image.shape[1],image.shape[2])"
   ]
  },
  {
   "cell_type": "code",
   "execution_count": null,
   "metadata": {},
   "outputs": [],
   "source": [
    "# save U-Net segmented BM \n",
    "\n",
    "predpath = '/Users/hwang/Desktop/research/1_MM/Data/2_benign_MM/U-Net/pred/'\n",
    "\n",
    "mresampath = '/Users/hwang/Desktop/research/1_MM/Data/2_benign_MM/resample_roi_niigz/test/'\n",
    "mresampfile = os.listdir(mresampath)\n",
    "mresampfile.sort()\n",
    "num_img = len(mresampfile)\n",
    "\n",
    "num = 0\n",
    "\n",
    "for n in os.listdir(mresampath):\n",
    "\n",
    "    numslice = 19\n",
    "    fslice = num*numslice\n",
    "    lslice = ((num+1)*numslice)-1\n",
    "    image3 = image2[fslice:lslice,:,:]\n",
    "    image4 = sitk.GetImageFromArray(image3)\n",
    "    image4.SetSpacing([0.5303, 0.5303, 3])\n",
    "    sitk.WriteImage(image4,os.path.join(predpath,mresampfile[num]),True)\n",
    "    \n",
    "    if num < num_img-1:\n",
    "        num = num + 1"
   ]
  }
 ],
 "metadata": {
  "kernelspec": {
   "display_name": "Python 3",
   "language": "python",
   "name": "python3"
  },
  "language_info": {
   "codemirror_mode": {
    "name": "ipython",
    "version": 3
   },
   "file_extension": ".py",
   "mimetype": "text/x-python",
   "name": "python",
   "nbconvert_exporter": "python",
   "pygments_lexer": "ipython3",
   "version": "3.7.4"
  }
 },
 "nbformat": 4,
 "nbformat_minor": 4
}
